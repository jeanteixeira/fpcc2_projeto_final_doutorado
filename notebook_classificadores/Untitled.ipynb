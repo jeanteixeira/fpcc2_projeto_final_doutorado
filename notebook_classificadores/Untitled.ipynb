{
 "cells": [
  {
   "cell_type": "code",
   "execution_count": 1,
   "id": "e6d914a4",
   "metadata": {},
   "outputs": [],
   "source": [
    "import pandas as pd\n",
    "import numpy as np\n",
    "import matplotlib.pyplot as plt\n",
    "import seaborn as sns\n",
    "\n",
    "\n",
    "from sklearn.model_selection import train_test_split\n",
    "from sklearn.metrics import precision_score, recall_score, f1_score, confusion_matrix, roc_auc_score, cohen_kappa_score, accuracy_score, mean_absolute_error, mean_squared_error\n",
    "\n",
    "from sklearn.ensemble import RandomForestClassifier\n",
    "from sklearn.naive_bayes import GaussianNB\n",
    "from xgboost import XGBClassifier\n",
    "\n",
    "\n",
    "import warnings\n",
    "warnings.filterwarnings(action='ignore', category=DeprecationWarning)"
   ]
  },
  {
   "cell_type": "code",
   "execution_count": 2,
   "id": "c1fb083c",
   "metadata": {},
   "outputs": [],
   "source": [
    "def train(classifier, X, y, class_names):\n",
    "\n",
    "    X_train, X_test, y_train, y_test = train_test_split(X, y, test_size=0.30, random_state=seed)\n",
    "    \n",
    "    ##TREINANDO MEU ALGORITMO\n",
    "    classifier.fit(X_train, y_train)\n",
    "    \n",
    "    ##Predicoes para medição da Acurácia\n",
    "    y_pred = classifier.fit(X_train, y_train).predict(X_test)\n",
    "    \n",
    "    cnf_matrix = confusion_matrix(y_test, y_pred)\n",
    "    np.set_printoptions(precision=2)\n",
    "    \n",
    "    \n",
    "    print(\"Acurracia: %s\" % classifier.score(X_test,y_test))\n",
    "    print(\"Kappa: %s\" % str(cohen_kappa_score(y_test, y_pred)))\n",
    "    print(\"F1: %s\" % str(f1_score(y_test, y_pred, average=None )))\n",
    "    print(\"Recall: %s\"% str(recall_score(y_test, y_pred, average=None)))\n",
    "    print(\"Precision: %s\" % str(precision_score(y_test, y_pred, average=None)))\n",
    "    print('Mean Absolute Error:', mean_absolute_error(y_test, y_pred))\n",
    "    print('Mean Squared Error:', mean_squared_error(y_test, y_pred))\n",
    "    print('Root Mean Squared Error:', np.sqrt(mean_squared_error(y_test, y_pred)))\n",
    "\n",
    "    \n",
    "    return classifier"
   ]
  },
  {
   "cell_type": "code",
   "execution_count": 3,
   "id": "21e3f722",
   "metadata": {},
   "outputs": [],
   "source": [
    "def plot_feature_importance(importance,names,model_type):\n",
    "\n",
    "    #Create arrays from feature importance and feature names\n",
    "    feature_importance = np.array(importance)\n",
    "    feature_names = np.array(names)\n",
    "\n",
    "    #Create a DataFrame using a Dictionary\n",
    "    data={'feature_names':feature_names,'feature_importance':feature_importance}\n",
    "    fi_df = pd.DataFrame(data)\n",
    "\n",
    "    #Sort the DataFrame in order decreasing feature importance\n",
    "    fi_df.sort_values(by=['feature_importance'], ascending=False,inplace=True)\n",
    "\n",
    "    #Define size of bar plot\n",
    "    plt.figure(figsize=(10,8))\n",
    "    #Plot Searborn bar chart\n",
    "    sns.barplot(x=fi_df['feature_importance'], y=fi_df['feature_names'])\n",
    "    #Add chart labels\n",
    "    plt.title(model_type + 'FEATURE IMPORTANCE')\n",
    "    plt.xlabel('FEATURE IMPORTANCE')\n",
    "    plt.ylabel('FEATURE NAMES')"
   ]
  },
  {
   "cell_type": "code",
   "execution_count": 4,
   "id": "1f1efc1f",
   "metadata": {},
   "outputs": [],
   "source": [
    "seed = 5\n",
    "np.random.seed(seed)\n",
    "data = pd.read_csv(\"dataAllFeatures.csv\", engine='python', encoding='utf-8')"
   ]
  },
  {
   "cell_type": "code",
   "execution_count": 5,
   "id": "b5048f1b",
   "metadata": {},
   "outputs": [
    {
     "data": {
      "text/html": [
       "<div>\n",
       "<style scoped>\n",
       "    .dataframe tbody tr th:only-of-type {\n",
       "        vertical-align: middle;\n",
       "    }\n",
       "\n",
       "    .dataframe tbody tr th {\n",
       "        vertical-align: top;\n",
       "    }\n",
       "\n",
       "    .dataframe thead th {\n",
       "        text-align: right;\n",
       "    }\n",
       "</style>\n",
       "<table border=\"1\" class=\"dataframe\">\n",
       "  <thead>\n",
       "    <tr style=\"text-align: right;\">\n",
       "      <th></th>\n",
       "      <th>year</th>\n",
       "      <th>duration</th>\n",
       "      <th>reviews_from_users</th>\n",
       "      <th>reviews_from_critics</th>\n",
       "      <th>total_votes</th>\n",
       "      <th>males_allages_avg_vote</th>\n",
       "      <th>males_allages_votes</th>\n",
       "      <th>females_allages_avg_vote</th>\n",
       "      <th>females_allages_votes</th>\n",
       "      <th>us_voters_rating</th>\n",
       "      <th>us_voters_votes</th>\n",
       "      <th>non_us_voters_rating</th>\n",
       "      <th>non_us_voters_votes</th>\n",
       "      <th>weighted_average_vote</th>\n",
       "    </tr>\n",
       "  </thead>\n",
       "  <tbody>\n",
       "    <tr>\n",
       "      <th>0</th>\n",
       "      <td>1994.0</td>\n",
       "      <td>142.0</td>\n",
       "      <td>8232.0</td>\n",
       "      <td>164.0</td>\n",
       "      <td>154</td>\n",
       "      <td>6.2</td>\n",
       "      <td>97.0</td>\n",
       "      <td>6.0</td>\n",
       "      <td>35.0</td>\n",
       "      <td>6.4</td>\n",
       "      <td>51.0</td>\n",
       "      <td>6.0</td>\n",
       "      <td>70.0</td>\n",
       "      <td>5.9</td>\n",
       "    </tr>\n",
       "    <tr>\n",
       "      <th>1</th>\n",
       "      <td>2008.0</td>\n",
       "      <td>152.0</td>\n",
       "      <td>6938.0</td>\n",
       "      <td>423.0</td>\n",
       "      <td>589</td>\n",
       "      <td>6.1</td>\n",
       "      <td>425.0</td>\n",
       "      <td>6.2</td>\n",
       "      <td>50.0</td>\n",
       "      <td>6.0</td>\n",
       "      <td>96.0</td>\n",
       "      <td>6.2</td>\n",
       "      <td>331.0</td>\n",
       "      <td>6.1</td>\n",
       "    </tr>\n",
       "    <tr>\n",
       "      <th>2</th>\n",
       "      <td>2010.0</td>\n",
       "      <td>148.0</td>\n",
       "      <td>3927.0</td>\n",
       "      <td>473.0</td>\n",
       "      <td>188</td>\n",
       "      <td>5.9</td>\n",
       "      <td>146.0</td>\n",
       "      <td>5.7</td>\n",
       "      <td>15.0</td>\n",
       "      <td>6.2</td>\n",
       "      <td>31.0</td>\n",
       "      <td>5.9</td>\n",
       "      <td>123.0</td>\n",
       "      <td>5.8</td>\n",
       "    </tr>\n",
       "    <tr>\n",
       "      <th>3</th>\n",
       "      <td>1999.0</td>\n",
       "      <td>139.0</td>\n",
       "      <td>3758.0</td>\n",
       "      <td>370.0</td>\n",
       "      <td>446</td>\n",
       "      <td>5.1</td>\n",
       "      <td>299.0</td>\n",
       "      <td>5.9</td>\n",
       "      <td>39.0</td>\n",
       "      <td>5.5</td>\n",
       "      <td>207.0</td>\n",
       "      <td>4.7</td>\n",
       "      <td>105.0</td>\n",
       "      <td>5.2</td>\n",
       "    </tr>\n",
       "    <tr>\n",
       "      <th>4</th>\n",
       "      <td>1994.0</td>\n",
       "      <td>154.0</td>\n",
       "      <td>3058.0</td>\n",
       "      <td>289.0</td>\n",
       "      <td>2237</td>\n",
       "      <td>7.0</td>\n",
       "      <td>1607.0</td>\n",
       "      <td>7.2</td>\n",
       "      <td>215.0</td>\n",
       "      <td>7.0</td>\n",
       "      <td>488.0</td>\n",
       "      <td>7.0</td>\n",
       "      <td>1166.0</td>\n",
       "      <td>7.0</td>\n",
       "    </tr>\n",
       "  </tbody>\n",
       "</table>\n",
       "</div>"
      ],
      "text/plain": [
       "     year  duration  reviews_from_users  reviews_from_critics  total_votes  \\\n",
       "0  1994.0     142.0              8232.0                 164.0          154   \n",
       "1  2008.0     152.0              6938.0                 423.0          589   \n",
       "2  2010.0     148.0              3927.0                 473.0          188   \n",
       "3  1999.0     139.0              3758.0                 370.0          446   \n",
       "4  1994.0     154.0              3058.0                 289.0         2237   \n",
       "\n",
       "   males_allages_avg_vote  males_allages_votes  females_allages_avg_vote  \\\n",
       "0                     6.2                 97.0                       6.0   \n",
       "1                     6.1                425.0                       6.2   \n",
       "2                     5.9                146.0                       5.7   \n",
       "3                     5.1                299.0                       5.9   \n",
       "4                     7.0               1607.0                       7.2   \n",
       "\n",
       "   females_allages_votes  us_voters_rating  us_voters_votes  \\\n",
       "0                   35.0               6.4             51.0   \n",
       "1                   50.0               6.0             96.0   \n",
       "2                   15.0               6.2             31.0   \n",
       "3                   39.0               5.5            207.0   \n",
       "4                  215.0               7.0            488.0   \n",
       "\n",
       "   non_us_voters_rating  non_us_voters_votes  weighted_average_vote  \n",
       "0                   6.0                 70.0                    5.9  \n",
       "1                   6.2                331.0                    6.1  \n",
       "2                   5.9                123.0                    5.8  \n",
       "3                   4.7                105.0                    5.2  \n",
       "4                   7.0               1166.0                    7.0  "
      ]
     },
     "execution_count": 5,
     "metadata": {},
     "output_type": "execute_result"
    }
   ],
   "source": [
    "data.head()"
   ]
  },
  {
   "cell_type": "code",
   "execution_count": 7,
   "id": "358818d2",
   "metadata": {},
   "outputs": [
    {
     "data": {
      "text/html": [
       "<div>\n",
       "<style scoped>\n",
       "    .dataframe tbody tr th:only-of-type {\n",
       "        vertical-align: middle;\n",
       "    }\n",
       "\n",
       "    .dataframe tbody tr th {\n",
       "        vertical-align: top;\n",
       "    }\n",
       "\n",
       "    .dataframe thead th {\n",
       "        text-align: right;\n",
       "    }\n",
       "</style>\n",
       "<table border=\"1\" class=\"dataframe\">\n",
       "  <thead>\n",
       "    <tr style=\"text-align: right;\">\n",
       "      <th></th>\n",
       "      <th>year</th>\n",
       "      <th>duration</th>\n",
       "      <th>reviews_from_users</th>\n",
       "      <th>reviews_from_critics</th>\n",
       "      <th>total_votes</th>\n",
       "      <th>males_allages_avg_vote</th>\n",
       "      <th>males_allages_votes</th>\n",
       "      <th>females_allages_avg_vote</th>\n",
       "      <th>females_allages_votes</th>\n",
       "      <th>us_voters_rating</th>\n",
       "      <th>us_voters_votes</th>\n",
       "      <th>non_us_voters_rating</th>\n",
       "      <th>non_us_voters_votes</th>\n",
       "      <th>weighted_average_vote</th>\n",
       "    </tr>\n",
       "  </thead>\n",
       "  <tbody>\n",
       "    <tr>\n",
       "      <th>count</th>\n",
       "      <td>69968.000000</td>\n",
       "      <td>69968.000000</td>\n",
       "      <td>69968.000000</td>\n",
       "      <td>69968.000000</td>\n",
       "      <td>8.585500e+04</td>\n",
       "      <td>85854.000000</td>\n",
       "      <td>8.585400e+04</td>\n",
       "      <td>85774.000000</td>\n",
       "      <td>85774.000000</td>\n",
       "      <td>85646.000000</td>\n",
       "      <td>85646.000000</td>\n",
       "      <td>85854.000000</td>\n",
       "      <td>85854.000000</td>\n",
       "      <td>85855.000000</td>\n",
       "    </tr>\n",
       "    <tr>\n",
       "      <th>mean</th>\n",
       "      <td>1992.768980</td>\n",
       "      <td>99.854662</td>\n",
       "      <td>50.934670</td>\n",
       "      <td>28.826649</td>\n",
       "      <td>9.493490e+03</td>\n",
       "      <td>5.817172</td>\n",
       "      <td>6.029016e+03</td>\n",
       "      <td>6.039408</td>\n",
       "      <td>1366.759461</td>\n",
       "      <td>5.925910</td>\n",
       "      <td>1647.822537</td>\n",
       "      <td>5.749638</td>\n",
       "      <td>4332.940865</td>\n",
       "      <td>5.898656</td>\n",
       "    </tr>\n",
       "    <tr>\n",
       "      <th>std</th>\n",
       "      <td>24.883932</td>\n",
       "      <td>21.866374</td>\n",
       "      <td>188.159383</td>\n",
       "      <td>59.728828</td>\n",
       "      <td>5.357436e+04</td>\n",
       "      <td>1.248058</td>\n",
       "      <td>3.364652e+04</td>\n",
       "      <td>1.346245</td>\n",
       "      <td>7672.675428</td>\n",
       "      <td>1.308087</td>\n",
       "      <td>8455.978158</td>\n",
       "      <td>1.285570</td>\n",
       "      <td>23243.807279</td>\n",
       "      <td>1.234987</td>\n",
       "    </tr>\n",
       "    <tr>\n",
       "      <th>min</th>\n",
       "      <td>1894.000000</td>\n",
       "      <td>41.000000</td>\n",
       "      <td>1.000000</td>\n",
       "      <td>1.000000</td>\n",
       "      <td>9.900000e+01</td>\n",
       "      <td>1.000000</td>\n",
       "      <td>1.000000e+00</td>\n",
       "      <td>1.000000</td>\n",
       "      <td>1.000000</td>\n",
       "      <td>1.000000</td>\n",
       "      <td>1.000000</td>\n",
       "      <td>1.000000</td>\n",
       "      <td>1.000000</td>\n",
       "      <td>1.000000</td>\n",
       "    </tr>\n",
       "    <tr>\n",
       "      <th>25%</th>\n",
       "      <td>1977.000000</td>\n",
       "      <td>88.000000</td>\n",
       "      <td>4.000000</td>\n",
       "      <td>3.000000</td>\n",
       "      <td>2.050000e+02</td>\n",
       "      <td>5.100000</td>\n",
       "      <td>1.320000e+02</td>\n",
       "      <td>5.300000</td>\n",
       "      <td>22.000000</td>\n",
       "      <td>5.200000</td>\n",
       "      <td>24.000000</td>\n",
       "      <td>5.000000</td>\n",
       "      <td>95.000000</td>\n",
       "      <td>5.200000</td>\n",
       "    </tr>\n",
       "    <tr>\n",
       "      <th>50%</th>\n",
       "      <td>2002.000000</td>\n",
       "      <td>96.000000</td>\n",
       "      <td>11.000000</td>\n",
       "      <td>9.000000</td>\n",
       "      <td>4.840000e+02</td>\n",
       "      <td>6.000000</td>\n",
       "      <td>3.080000e+02</td>\n",
       "      <td>6.300000</td>\n",
       "      <td>58.000000</td>\n",
       "      <td>6.100000</td>\n",
       "      <td>81.000000</td>\n",
       "      <td>6.000000</td>\n",
       "      <td>225.000000</td>\n",
       "      <td>6.100000</td>\n",
       "    </tr>\n",
       "    <tr>\n",
       "      <th>75%</th>\n",
       "      <td>2013.000000</td>\n",
       "      <td>108.000000</td>\n",
       "      <td>31.000000</td>\n",
       "      <td>25.000000</td>\n",
       "      <td>1.766500e+03</td>\n",
       "      <td>6.700000</td>\n",
       "      <td>1.141000e+03</td>\n",
       "      <td>7.000000</td>\n",
       "      <td>227.000000</td>\n",
       "      <td>6.800000</td>\n",
       "      <td>335.000000</td>\n",
       "      <td>6.700000</td>\n",
       "      <td>841.000000</td>\n",
       "      <td>6.800000</td>\n",
       "    </tr>\n",
       "    <tr>\n",
       "      <th>max</th>\n",
       "      <td>2020.000000</td>\n",
       "      <td>808.000000</td>\n",
       "      <td>10472.000000</td>\n",
       "      <td>999.000000</td>\n",
       "      <td>2.278845e+06</td>\n",
       "      <td>10.000000</td>\n",
       "      <td>1.409165e+06</td>\n",
       "      <td>10.000000</td>\n",
       "      <td>278964.000000</td>\n",
       "      <td>10.000000</td>\n",
       "      <td>348363.000000</td>\n",
       "      <td>10.000000</td>\n",
       "      <td>887226.000000</td>\n",
       "      <td>9.900000</td>\n",
       "    </tr>\n",
       "  </tbody>\n",
       "</table>\n",
       "</div>"
      ],
      "text/plain": [
       "               year      duration  reviews_from_users  reviews_from_critics  \\\n",
       "count  69968.000000  69968.000000        69968.000000          69968.000000   \n",
       "mean    1992.768980     99.854662           50.934670             28.826649   \n",
       "std       24.883932     21.866374          188.159383             59.728828   \n",
       "min     1894.000000     41.000000            1.000000              1.000000   \n",
       "25%     1977.000000     88.000000            4.000000              3.000000   \n",
       "50%     2002.000000     96.000000           11.000000              9.000000   \n",
       "75%     2013.000000    108.000000           31.000000             25.000000   \n",
       "max     2020.000000    808.000000        10472.000000            999.000000   \n",
       "\n",
       "        total_votes  males_allages_avg_vote  males_allages_votes  \\\n",
       "count  8.585500e+04            85854.000000         8.585400e+04   \n",
       "mean   9.493490e+03                5.817172         6.029016e+03   \n",
       "std    5.357436e+04                1.248058         3.364652e+04   \n",
       "min    9.900000e+01                1.000000         1.000000e+00   \n",
       "25%    2.050000e+02                5.100000         1.320000e+02   \n",
       "50%    4.840000e+02                6.000000         3.080000e+02   \n",
       "75%    1.766500e+03                6.700000         1.141000e+03   \n",
       "max    2.278845e+06               10.000000         1.409165e+06   \n",
       "\n",
       "       females_allages_avg_vote  females_allages_votes  us_voters_rating  \\\n",
       "count              85774.000000           85774.000000      85646.000000   \n",
       "mean                   6.039408            1366.759461          5.925910   \n",
       "std                    1.346245            7672.675428          1.308087   \n",
       "min                    1.000000               1.000000          1.000000   \n",
       "25%                    5.300000              22.000000          5.200000   \n",
       "50%                    6.300000              58.000000          6.100000   \n",
       "75%                    7.000000             227.000000          6.800000   \n",
       "max                   10.000000          278964.000000         10.000000   \n",
       "\n",
       "       us_voters_votes  non_us_voters_rating  non_us_voters_votes  \\\n",
       "count     85646.000000          85854.000000         85854.000000   \n",
       "mean       1647.822537              5.749638          4332.940865   \n",
       "std        8455.978158              1.285570         23243.807279   \n",
       "min           1.000000              1.000000             1.000000   \n",
       "25%          24.000000              5.000000            95.000000   \n",
       "50%          81.000000              6.000000           225.000000   \n",
       "75%         335.000000              6.700000           841.000000   \n",
       "max      348363.000000             10.000000        887226.000000   \n",
       "\n",
       "       weighted_average_vote  \n",
       "count           85855.000000  \n",
       "mean                5.898656  \n",
       "std                 1.234987  \n",
       "min                 1.000000  \n",
       "25%                 5.200000  \n",
       "50%                 6.100000  \n",
       "75%                 6.800000  \n",
       "max                 9.900000  "
      ]
     },
     "execution_count": 7,
     "metadata": {},
     "output_type": "execute_result"
    }
   ],
   "source": [
    "data.describe()"
   ]
  },
  {
   "cell_type": "code",
   "execution_count": 8,
   "id": "fc06d53d",
   "metadata": {},
   "outputs": [],
   "source": [
    "data.dropna(axis=0, inplace=True)\n",
    "data.weighted_average_vote = data.weighted_average_vote.round()"
   ]
  },
  {
   "cell_type": "code",
   "execution_count": 9,
   "id": "37cc843a",
   "metadata": {},
   "outputs": [],
   "source": [
    "target = data['weighted_average_vote'].values\n",
    "X = data.drop('weighted_average_vote',axis=1)\n",
    "y = target"
   ]
  },
  {
   "cell_type": "markdown",
   "id": "5c82a69a",
   "metadata": {},
   "source": [
    "## Treinamento com todas as variáveis"
   ]
  },
  {
   "cell_type": "code",
   "execution_count": 10,
   "id": "baf06bc1",
   "metadata": {},
   "outputs": [
    {
     "name": "stdout",
     "output_type": "stream",
     "text": [
      "Naive Bayes\n",
      "Acurracia: 0.07385467921463718\n",
      "Kappa: -0.014228701909497543\n",
      "F1: [0.   0.05 0.16 0.03 0.06 0.16 0.06 0.13 0.06 0.01]\n",
      "Recall: [0.94 0.02 0.18 0.08 0.04 0.1  0.03 0.08 0.13 0.5 ]\n",
      "Precision: [0.   0.55 0.15 0.02 0.08 0.41 0.34 0.25 0.04 0.  ]\n",
      "Mean Absolute Error: 2.837147088329432\n",
      "Mean Squared Error: 11.086800745234797\n",
      "Root Mean Squared Error: 3.329684781662492\n"
     ]
    }
   ],
   "source": [
    "print('Naive Bayes')\n",
    "modeloNaiveBayes = train(GaussianNB(), X, y, target)"
   ]
  },
  {
   "cell_type": "code",
   "execution_count": 11,
   "id": "b01c9fce",
   "metadata": {},
   "outputs": [
    {
     "name": "stdout",
     "output_type": "stream",
     "text": [
      "RANDOMFOREST\n",
      "Acurracia: 0.9391391582668513\n",
      "Kappa: 0.9186863427157892\n",
      "F1: [0.83 0.93 0.9  0.91 0.91 0.95 0.95 0.94 0.78 0.  ]\n",
      "Recall: [0.75 0.94 0.91 0.91 0.92 0.95 0.95 0.93 0.72 0.  ]\n",
      "Precision: [0.92 0.92 0.89 0.91 0.91 0.95 0.95 0.96 0.85 0.  ]\n",
      "Mean Absolute Error: 0.06382267233554674\n",
      "Mean Squared Error: 0.07223044952945111\n",
      "Root Mean Squared Error: 0.26875723158540515\n"
     ]
    },
    {
     "name": "stderr",
     "output_type": "stream",
     "text": [
      "C:\\Users\\jeamb\\anaconda3\\lib\\site-packages\\sklearn\\metrics\\_classification.py:1245: UndefinedMetricWarning: Precision is ill-defined and being set to 0.0 in labels with no predicted samples. Use `zero_division` parameter to control this behavior.\n",
      "  _warn_prf(average, modifier, msg_start, len(result))\n"
     ]
    }
   ],
   "source": [
    "print('RANDOMFOREST')\n",
    "modeloRandomForest = train(RandomForestClassifier(n_estimators=20, random_state=seed), X, y, target)"
   ]
  },
  {
   "cell_type": "code",
   "execution_count": 12,
   "id": "fd20edb3",
   "metadata": {},
   "outputs": [
    {
     "data": {
      "image/png": "[encoded data removed]",
      "text/plain": [
       "<Figure size 720x576 with 1 Axes>"
      ]
     },
     "metadata": {
      "needs_background": "light"
     },
     "output_type": "display_data"
    }
   ],
   "source": [
    "plot_feature_importance(modeloRandomForest.feature_importances_,X.columns,'RANDOM FOREST ')"
   ]
  },
  {
   "cell_type": "code",
   "execution_count": 13,
   "id": "61bca456",
   "metadata": {},
   "outputs": [
    {
     "name": "stdout",
     "output_type": "stream",
     "text": [
      "XGBoost\n",
      "[14:42:52] WARNING: ..\\src\\learner.cc:1061: Starting in XGBoost 1.3.0, the default evaluation metric used with the objective 'multi:softprob' was changed from 'merror' to 'mlogloss'. Explicitly set eval_metric if you'd like to restore the old behavior.\n"
     ]
    },
    {
     "name": "stderr",
     "output_type": "stream",
     "text": [
      "C:\\Users\\jeamb\\anaconda3\\lib\\site-packages\\xgboost\\sklearn.py:888: UserWarning: The use of label encoder in XGBClassifier is deprecated and will be removed in a future release. To remove this warning, do the following: 1) Pass option use_label_encoder=False when constructing XGBClassifier object; and 2) Encode your labels (y) as integers starting with 0, i.e. 0, 1, 2, ..., [num_class - 1].\n",
      "  warnings.warn(label_encoder_deprecation_msg, UserWarning)\n"
     ]
    },
    {
     "name": "stdout",
     "output_type": "stream",
     "text": [
      "[14:42:55] WARNING: ..\\src\\learner.cc:1061: Starting in XGBoost 1.3.0, the default evaluation metric used with the objective 'multi:softprob' was changed from 'merror' to 'mlogloss'. Explicitly set eval_metric if you'd like to restore the old behavior.\n",
      "Acurracia: 0.9406678450293795\n",
      "Kappa: 0.9207152544993121\n",
      "F1: [0.83 0.92 0.9  0.92 0.92 0.95 0.95 0.95 0.83 0.67]\n",
      "Recall: [0.75 0.94 0.9  0.92 0.92 0.95 0.95 0.93 0.82 0.5 ]\n",
      "Precision: [0.92 0.91 0.9  0.91 0.92 0.95 0.95 0.96 0.84 1.  ]\n",
      "Mean Absolute Error: 0.06234175703434768\n",
      "Mean Squared Error: 0.07103616299622606\n",
      "Root Mean Squared Error: 0.2665261019041588\n"
     ]
    }
   ],
   "source": [
    "print('XGBoost')\n",
    "modeloXGBoost = train(XGBClassifier(n_estimators=20, random_state=seed), X, y, target)"
   ]
  },
  {
   "cell_type": "code",
   "execution_count": 14,
   "id": "f91fb35b",
   "metadata": {},
   "outputs": [
    {
     "data": {
      "image/png": "[encoded data removed]",
      "text/plain": [
       "<Figure size 720x576 with 1 Axes>"
      ]
     },
     "metadata": {
      "needs_background": "light"
     },
     "output_type": "display_data"
    }
   ],
   "source": [
    "plot_feature_importance(modeloXGBoost.feature_importances_,X.columns,'XGBoost ')"
   ]
  },
  {
   "cell_type": "markdown",
   "id": "cd86dcbe",
   "metadata": {},
   "source": [
    "## Retirando as variáveis importantes"
   ]
  },
  {
   "cell_type": "code",
   "execution_count": 25,
   "id": "084e13b6",
   "metadata": {},
   "outputs": [],
   "source": [
    "dataWithoutTopFeatures = pd.read_csv(\"dataWithoutTopFeatures.csv\", engine='python', encoding='utf-8')"
   ]
  },
  {
   "cell_type": "code",
   "execution_count": 16,
   "id": "11693b7b",
   "metadata": {},
   "outputs": [
    {
     "data": {
      "text/html": [
       "<div>\n",
       "<style scoped>\n",
       "    .dataframe tbody tr th:only-of-type {\n",
       "        vertical-align: middle;\n",
       "    }\n",
       "\n",
       "    .dataframe tbody tr th {\n",
       "        vertical-align: top;\n",
       "    }\n",
       "\n",
       "    .dataframe thead th {\n",
       "        text-align: right;\n",
       "    }\n",
       "</style>\n",
       "<table border=\"1\" class=\"dataframe\">\n",
       "  <thead>\n",
       "    <tr style=\"text-align: right;\">\n",
       "      <th></th>\n",
       "      <th>year</th>\n",
       "      <th>duration</th>\n",
       "      <th>reviews_from_users</th>\n",
       "      <th>reviews_from_critics</th>\n",
       "      <th>total_votes</th>\n",
       "      <th>females_allages_votes</th>\n",
       "      <th>us_voters_votes</th>\n",
       "      <th>weighted_average_vote</th>\n",
       "    </tr>\n",
       "  </thead>\n",
       "  <tbody>\n",
       "    <tr>\n",
       "      <th>0</th>\n",
       "      <td>1994.0</td>\n",
       "      <td>142.0</td>\n",
       "      <td>8232.0</td>\n",
       "      <td>164.0</td>\n",
       "      <td>154</td>\n",
       "      <td>35.0</td>\n",
       "      <td>51.0</td>\n",
       "      <td>5.9</td>\n",
       "    </tr>\n",
       "    <tr>\n",
       "      <th>1</th>\n",
       "      <td>2008.0</td>\n",
       "      <td>152.0</td>\n",
       "      <td>6938.0</td>\n",
       "      <td>423.0</td>\n",
       "      <td>589</td>\n",
       "      <td>50.0</td>\n",
       "      <td>96.0</td>\n",
       "      <td>6.1</td>\n",
       "    </tr>\n",
       "    <tr>\n",
       "      <th>2</th>\n",
       "      <td>2010.0</td>\n",
       "      <td>148.0</td>\n",
       "      <td>3927.0</td>\n",
       "      <td>473.0</td>\n",
       "      <td>188</td>\n",
       "      <td>15.0</td>\n",
       "      <td>31.0</td>\n",
       "      <td>5.8</td>\n",
       "    </tr>\n",
       "    <tr>\n",
       "      <th>3</th>\n",
       "      <td>1999.0</td>\n",
       "      <td>139.0</td>\n",
       "      <td>3758.0</td>\n",
       "      <td>370.0</td>\n",
       "      <td>446</td>\n",
       "      <td>39.0</td>\n",
       "      <td>207.0</td>\n",
       "      <td>5.2</td>\n",
       "    </tr>\n",
       "    <tr>\n",
       "      <th>4</th>\n",
       "      <td>1994.0</td>\n",
       "      <td>154.0</td>\n",
       "      <td>3058.0</td>\n",
       "      <td>289.0</td>\n",
       "      <td>2237</td>\n",
       "      <td>215.0</td>\n",
       "      <td>488.0</td>\n",
       "      <td>7.0</td>\n",
       "    </tr>\n",
       "  </tbody>\n",
       "</table>\n",
       "</div>"
      ],
      "text/plain": [
       "     year  duration  reviews_from_users  reviews_from_critics  total_votes  \\\n",
       "0  1994.0     142.0              8232.0                 164.0          154   \n",
       "1  2008.0     152.0              6938.0                 423.0          589   \n",
       "2  2010.0     148.0              3927.0                 473.0          188   \n",
       "3  1999.0     139.0              3758.0                 370.0          446   \n",
       "4  1994.0     154.0              3058.0                 289.0         2237   \n",
       "\n",
       "   females_allages_votes  us_voters_votes  weighted_average_vote  \n",
       "0                   35.0             51.0                    5.9  \n",
       "1                   50.0             96.0                    6.1  \n",
       "2                   15.0             31.0                    5.8  \n",
       "3                   39.0            207.0                    5.2  \n",
       "4                  215.0            488.0                    7.0  "
      ]
     },
     "execution_count": 16,
     "metadata": {},
     "output_type": "execute_result"
    }
   ],
   "source": [
    "dataWithoutTopFeatures.head()"
   ]
  },
  {
   "cell_type": "code",
   "execution_count": 17,
   "id": "e1907f4c",
   "metadata": {},
   "outputs": [],
   "source": [
    "dataWithoutTopFeatures.dropna(axis=0, inplace=True)\n",
    "dataWithoutTopFeatures.weighted_average_vote = data.weighted_average_vote.round()"
   ]
  },
  {
   "cell_type": "code",
   "execution_count": 18,
   "id": "c5b4974b",
   "metadata": {},
   "outputs": [],
   "source": [
    "target = dataWithoutTopFeatures['weighted_average_vote'].values\n",
    "X = dataWithoutTopFeatures.drop('weighted_average_vote',axis=1)\n",
    "y = target"
   ]
  },
  {
   "cell_type": "markdown",
   "id": "4b9112e2",
   "metadata": {},
   "source": [
    "## Treinamento sem as variáveis importantes"
   ]
  },
  {
   "cell_type": "code",
   "execution_count": 19,
   "id": "791123ed",
   "metadata": {},
   "outputs": [
    {
     "name": "stdout",
     "output_type": "stream",
     "text": [
      "Naive Bayes\n",
      "Acurracia: 0.07122724884154207\n",
      "Kappa: 0.0021589837446872595\n",
      "F1: [0.   0.01 0.04 0.05 0.05 0.17 0.06 0.12 0.06 0.  ]\n",
      "Recall: [0.94 0.01 0.18 0.05 0.03 0.11 0.03 0.08 0.13 0.  ]\n",
      "Precision: [0.   0.01 0.02 0.04 0.09 0.44 0.34 0.24 0.04 0.  ]\n",
      "Mean Absolute Error: 3.212200831223427\n",
      "Mean Squared Error: 13.539148712559117\n",
      "Root Mean Squared Error: 3.679558222471703\n"
     ]
    }
   ],
   "source": [
    "print('Naive Bayes')\n",
    "modeloNaiveBayes = train(GaussianNB(), X, y, target)"
   ]
  },
  {
   "cell_type": "code",
   "execution_count": 20,
   "id": "47abda28",
   "metadata": {},
   "outputs": [
    {
     "name": "stdout",
     "output_type": "stream",
     "text": [
      "RANDOMFOREST\n",
      "Acurracia: 0.3860411789996656\n",
      "Kappa: 0.1275824463155425\n",
      "F1: [0.   0.01 0.04 0.17 0.2  0.51 0.38 0.28 0.13 0.  ]\n",
      "Recall: [0.   0.01 0.03 0.14 0.17 0.62 0.37 0.2  0.08 0.  ]\n",
      "Precision: [0.   0.07 0.1  0.23 0.23 0.43 0.39 0.48 0.43 0.  ]\n",
      "Mean Absolute Error: 0.8741699708594086\n",
      "Mean Squared Error: 1.5749773085558687\n",
      "Root Mean Squared Error: 1.2549809992808132\n"
     ]
    },
    {
     "name": "stderr",
     "output_type": "stream",
     "text": [
      "C:\\Users\\jeamb\\anaconda3\\lib\\site-packages\\sklearn\\metrics\\_classification.py:1245: UndefinedMetricWarning: Precision is ill-defined and being set to 0.0 in labels with no predicted samples. Use `zero_division` parameter to control this behavior.\n",
      "  _warn_prf(average, modifier, msg_start, len(result))\n"
     ]
    }
   ],
   "source": [
    "print('RANDOMFOREST')\n",
    "modeloRandomForest = train(RandomForestClassifier(n_estimators=20, random_state=seed), X, y, target)"
   ]
  },
  {
   "cell_type": "code",
   "execution_count": 21,
   "id": "d1cce779",
   "metadata": {},
   "outputs": [
    {
     "data": {
      "image/png": "[encoded data removed]",
      "text/plain": [
       "<Figure size 720x576 with 1 Axes>"
      ]
     },
     "metadata": {
      "needs_background": "light"
     },
     "output_type": "display_data"
    }
   ],
   "source": [
    "plot_feature_importance(modeloRandomForest.feature_importances_,X.columns,'RANDOM FOREST ')"
   ]
  },
  {
   "cell_type": "code",
   "execution_count": 22,
   "id": "c83ad0ef",
   "metadata": {},
   "outputs": [
    {
     "name": "stdout",
     "output_type": "stream",
     "text": [
      "XGBoost\n",
      "[14:43:52] WARNING: ..\\src\\learner.cc:1061: Starting in XGBoost 1.3.0, the default evaluation metric used with the objective 'multi:softprob' was changed from 'merror' to 'mlogloss'. Explicitly set eval_metric if you'd like to restore the old behavior.\n"
     ]
    },
    {
     "name": "stderr",
     "output_type": "stream",
     "text": [
      "C:\\Users\\jeamb\\anaconda3\\lib\\site-packages\\xgboost\\sklearn.py:888: UserWarning: The use of label encoder in XGBClassifier is deprecated and will be removed in a future release. To remove this warning, do the following: 1) Pass option use_label_encoder=False when constructing XGBClassifier object; and 2) Encode your labels (y) as integers starting with 0, i.e. 0, 1, 2, ..., [num_class - 1].\n",
      "  warnings.warn(label_encoder_deprecation_msg, UserWarning)\n"
     ]
    },
    {
     "name": "stdout",
     "output_type": "stream",
     "text": [
      "[14:43:54] WARNING: ..\\src\\learner.cc:1061: Starting in XGBoost 1.3.0, the default evaluation metric used with the objective 'multi:softprob' was changed from 'merror' to 'mlogloss'. Explicitly set eval_metric if you'd like to restore the old behavior.\n",
      "Acurracia: 0.418478001242058\n",
      "Kappa: 0.13296084364468652\n",
      "F1: [0.   0.01 0.   0.09 0.12 0.54 0.4  0.3  0.27 0.  ]\n",
      "Recall: [0.   0.   0.   0.05 0.07 0.77 0.37 0.2  0.18 0.  ]\n",
      "Precision: [0.   0.25 0.   0.3  0.27 0.42 0.44 0.58 0.58 0.  ]\n",
      "Mean Absolute Error: 0.8070032962308317\n",
      "Mean Squared Error: 1.42029331677256\n",
      "Root Mean Squared Error: 1.191760595410236\n"
     ]
    },
    {
     "name": "stderr",
     "output_type": "stream",
     "text": [
      "C:\\Users\\jeamb\\anaconda3\\lib\\site-packages\\sklearn\\metrics\\_classification.py:1245: UndefinedMetricWarning: Precision is ill-defined and being set to 0.0 in labels with no predicted samples. Use `zero_division` parameter to control this behavior.\n",
      "  _warn_prf(average, modifier, msg_start, len(result))\n"
     ]
    }
   ],
   "source": [
    "print('XGBoost')\n",
    "modeloXGBoost = train(XGBClassifier(n_estimators=20, random_state=seed), X, y, target)"
   ]
  },
  {
   "cell_type": "code",
   "execution_count": 23,
   "id": "89b81f8b",
   "metadata": {},
   "outputs": [
    {
     "data": {
      "image/png": "[encoded data removed]",
      "text/plain": [
       "<Figure size 720x576 with 1 Axes>"
      ]
     },
     "metadata": {
      "needs_background": "light"
     },
     "output_type": "display_data"
    }
   ],
   "source": [
    "plot_feature_importance(modeloXGBoost.feature_importances_,X.columns,'XGBoost ')"
   ]
  }
 ],
 "metadata": {
  "kernelspec": {
   "display_name": "Python 3",
   "language": "python",
   "name": "python3"
  },
  "language_info": {
   "codemirror_mode": {
    "name": "ipython",
    "version": 3
   },
   "file_extension": ".py",
   "mimetype": "text/x-python",
   "name": "python",
   "nbconvert_exporter": "python",
   "pygments_lexer": "ipython3",
   "version": "3.8.8"
  }
 },
 "nbformat": 4,
 "nbformat_minor": 5
}
